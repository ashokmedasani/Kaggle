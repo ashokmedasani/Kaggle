{
 "cells": [
  {
   "cell_type": "markdown",
   "metadata": {
    "id": "c0T50wRbPKi2"
   },
   "source": [
    "# Forecasting Stickers Sale\n",
    "\n",
    "**Ashok Medasani**\n",
    "\n",
    "**Challenge Information:**\n",
    "For this challenge, you will be predicting multiple years worth of sales for various Kaggle-branded stickers from different fictitious stores in different (real!) countries. This dataset is completely synthetic, but contains many effects you see in real-world data, e.g., weekend and holiday effect, seasonality, etc."
   ]
  },
  {
   "cell_type": "code",
   "execution_count": 14,
   "metadata": {
    "colab": {
     "base_uri": "https://localhost:8080/"
    },
    "executionInfo": {
     "elapsed": 2399,
     "status": "ok",
     "timestamp": 1736136413386,
     "user": {
      "displayName": "Ashok Medasani",
      "userId": "05193986224758466238"
     },
     "user_tz": 360
    },
    "id": "mQDWIGPZPQWv",
    "outputId": "707a6954-7741-41c9-c5b8-175ec78a4964"
   },
   "outputs": [],
   "source": [
    "# prompt: mount google drive\n",
    "\n",
    "# from google.colab import drive\n",
    "# drive.mount('/content/drive')\n"
   ]
  },
  {
   "cell_type": "markdown",
   "metadata": {},
   "source": [
    "### Load the data"
   ]
  },
  {
   "cell_type": "code",
   "execution_count": 15,
   "metadata": {
    "colab": {
     "base_uri": "https://localhost:8080/"
    },
    "executionInfo": {
     "elapsed": 595,
     "status": "ok",
     "timestamp": 1736136413979,
     "user": {
      "displayName": "Ashok Medasani",
      "userId": "05193986224758466238"
     },
     "user_tz": 360
    },
    "id": "a83MowriPzqP",
    "outputId": "22d474a0-0ab3-4e3b-e15a-ddd4ac10be6f"
   },
   "outputs": [
    {
     "name": "stdout",
     "output_type": "stream",
     "text": [
      "       id        date country              store             product\n",
      "0  230130  2017-01-01  Canada  Discount Stickers   Holographic Goose\n",
      "1  230131  2017-01-01  Canada  Discount Stickers              Kaggle\n",
      "2  230132  2017-01-01  Canada  Discount Stickers        Kaggle Tiers\n",
      "3  230133  2017-01-01  Canada  Discount Stickers            Kerneler\n",
      "4  230134  2017-01-01  Canada  Discount Stickers  Kerneler Dark Mode\n",
      "\n",
      "\n",
      "   id        date country              store             product  num_sold\n",
      "0   0  2010-01-01  Canada  Discount Stickers   Holographic Goose       NaN\n",
      "1   1  2010-01-01  Canada  Discount Stickers              Kaggle     973.0\n",
      "2   2  2010-01-01  Canada  Discount Stickers        Kaggle Tiers     906.0\n",
      "3   3  2010-01-01  Canada  Discount Stickers            Kerneler     423.0\n",
      "4   4  2010-01-01  Canada  Discount Stickers  Kerneler Dark Mode     491.0\n"
     ]
    }
   ],
   "source": [
    "import pandas as pd\n",
    "\n",
    "test = pd.read_csv('test.csv')\n",
    "train = pd.read_csv('train.csv')\n",
    "print(test.head())\n",
    "print(\"\\n\")\n",
    "print(train.head())\n"
   ]
  },
  {
   "cell_type": "code",
   "execution_count": 16,
   "metadata": {},
   "outputs": [
    {
     "name": "stdout",
     "output_type": "stream",
     "text": [
      "Test Data Description:\n",
      "<class 'pandas.core.frame.DataFrame'>\n",
      "RangeIndex: 98550 entries, 0 to 98549\n",
      "Data columns (total 5 columns):\n",
      " #   Column   Non-Null Count  Dtype \n",
      "---  ------   --------------  ----- \n",
      " 0   id       98550 non-null  int64 \n",
      " 1   date     98550 non-null  object\n",
      " 2   country  98550 non-null  object\n",
      " 3   store    98550 non-null  object\n",
      " 4   product  98550 non-null  object\n",
      "dtypes: int64(1), object(4)\n",
      "memory usage: 3.8+ MB\n",
      "None\n",
      "                  id\n",
      "count   98550.000000\n",
      "mean   279404.500000\n",
      "std     28449.078852\n",
      "min    230130.000000\n",
      "25%    254767.250000\n",
      "50%    279404.500000\n",
      "75%    304041.750000\n",
      "max    328679.000000\n"
     ]
    }
   ],
   "source": [
    "# Display information about the test dataset\n",
    "print(\"Test Data Description:\")\n",
    "print(test.info())\n",
    "print(test.describe())"
   ]
  },
  {
   "cell_type": "code",
   "execution_count": 17,
   "metadata": {
    "colab": {
     "base_uri": "https://localhost:8080/"
    },
    "executionInfo": {
     "elapsed": 13,
     "status": "ok",
     "timestamp": 1736136413980,
     "user": {
      "displayName": "Ashok Medasani",
      "userId": "05193986224758466238"
     },
     "user_tz": 360
    },
    "id": "SSRfYPBlR9_5",
    "outputId": "e5151917-d029-4c5b-b1c6-353ee0967caf"
   },
   "outputs": [
    {
     "name": "stdout",
     "output_type": "stream",
     "text": [
      "Train Data Description:\n",
      "<class 'pandas.core.frame.DataFrame'>\n",
      "RangeIndex: 230130 entries, 0 to 230129\n",
      "Data columns (total 6 columns):\n",
      " #   Column    Non-Null Count   Dtype  \n",
      "---  ------    --------------   -----  \n",
      " 0   id        230130 non-null  int64  \n",
      " 1   date      230130 non-null  object \n",
      " 2   country   230130 non-null  object \n",
      " 3   store     230130 non-null  object \n",
      " 4   product   230130 non-null  object \n",
      " 5   num_sold  221259 non-null  float64\n",
      "dtypes: float64(1), int64(1), object(4)\n",
      "memory usage: 10.5+ MB\n",
      "None\n",
      "                  id       num_sold\n",
      "count  230130.000000  221259.000000\n",
      "mean   115064.500000     752.527382\n",
      "std     66432.953062     690.165445\n",
      "min         0.000000       5.000000\n",
      "25%     57532.250000     219.000000\n",
      "50%    115064.500000     605.000000\n",
      "75%    172596.750000    1114.000000\n",
      "max    230129.000000    5939.000000\n"
     ]
    }
   ],
   "source": [
    "\n",
    "# Display information about the training dataset\n",
    "print(\"Train Data Description:\")\n",
    "print(train.info())\n",
    "print(train.describe())"
   ]
  },
  {
   "cell_type": "code",
   "execution_count": 18,
   "metadata": {
    "executionInfo": {
     "elapsed": 11,
     "status": "ok",
     "timestamp": 1736136413980,
     "user": {
      "displayName": "Ashok Medasani",
      "userId": "05193986224758466238"
     },
     "user_tz": 360
    },
    "id": "Dq0W2vRPdSSu"
   },
   "outputs": [],
   "source": [
    "# Fill NaN values in 'num_sold' with the mean\n",
    "#train['num_sold'] = train['num_sold'].fillna(train['num_sold'].median())"
   ]
  },
  {
   "cell_type": "markdown",
   "metadata": {},
   "source": [
    "### Data Preprocessing \n"
   ]
  },
  {
   "cell_type": "code",
   "execution_count": 19,
   "metadata": {
    "colab": {
     "base_uri": "https://localhost:8080/"
    },
    "executionInfo": {
     "elapsed": 135264,
     "status": "ok",
     "timestamp": 1736136549234,
     "user": {
      "displayName": "Ashok Medasani",
      "userId": "05193986224758466238"
     },
     "user_tz": 360
    },
    "id": "ByY7wqOLyj9W",
    "outputId": "c5ea1682-98c9-4ac7-c804-dba57f8311d5"
   },
   "outputs": [],
   "source": [
    "\n",
    "from sklearn.ensemble import RandomForestRegressor\n",
    "from sklearn.model_selection import train_test_split\n",
    "from sklearn.preprocessing import LabelEncoder\n",
    "from sklearn.metrics import mean_absolute_error\n",
    "\n",
    "\n",
    "# Preprocessing: Convert date to datetime and extract features\n",
    "train['date'] = pd.to_datetime(train['date'])\n",
    "test['date'] = pd.to_datetime(test['date'])\n",
    "\n",
    "# Extract year, month, day, and day_of_week from date\n",
    "for df in [train, test]:\n",
    "    df['year'] = df['date'].dt.year\n",
    "    df['month'] = df['date'].dt.month\n",
    "    df['day'] = df['date'].dt.day\n",
    "    df['day_of_week'] = df['date'].dt.dayofweek\n",
    "\n",
    "# Encode categorical features\n",
    "label_encoder = LabelEncoder()\n",
    "for col in ['country', 'store', 'product']:\n",
    "    train[col] = label_encoder.fit_transform(train[col])\n",
    "    test[col] = label_encoder.transform(test[col])\n"
   ]
  },
  {
   "cell_type": "markdown",
   "metadata": {},
   "source": [
    "### Handle Missing Values"
   ]
  },
  {
   "cell_type": "code",
   "execution_count": 20,
   "metadata": {},
   "outputs": [
    {
     "ename": "",
     "evalue": "",
     "output_type": "error",
     "traceback": [
      "\u001b[1;31mThe Kernel crashed while executing code in the current cell or a previous cell. \n",
      "\u001b[1;31mPlease review the code in the cell(s) to identify a possible cause of the failure. \n",
      "\u001b[1;31mClick <a href='https://aka.ms/vscodeJupyterKernelCrash'>here</a> for more info. \n",
      "\u001b[1;31mView Jupyter <a href='command:jupyter.viewOutput'>log</a> for further details."
     ]
    }
   ],
   "source": [
    "# Handle missing values in 'num_sold' using predictive modeling\n",
    "train_known = train[train['num_sold'].notna()]\n",
    "train_missing = train[train['num_sold'].isna()]\n",
    "\n",
    "if not train_missing.empty:\n",
    "    # Train a model to fill missing 'num_sold'\n",
    "    X_known = train_known.drop(columns=['num_sold', 'date', 'id'])\n",
    "    y_known = train_known['num_sold']\n",
    "    X_missing = train_missing.drop(columns=['num_sold', 'date', 'id'])\n",
    "\n",
    "    imputer_model = RandomForestRegressor(random_state=42)\n",
    "    imputer_model.fit(X_known, y_known)\n",
    "    train.loc[train['num_sold'].isna(), 'num_sold'] = imputer_model.predict(X_missing)"
   ]
  },
  {
   "cell_type": "markdown",
   "metadata": {},
   "source": [
    "### Model Training"
   ]
  },
  {
   "cell_type": "code",
   "execution_count": null,
   "metadata": {},
   "outputs": [],
   "source": [
    "# Define features and target for main model\n",
    "X_train = train.drop(columns=['num_sold', 'date', 'id'])\n",
    "y_train = train['num_sold']\n",
    "X_test = test.drop(columns=['date', 'id'])\n",
    "\n",
    "# Split training data for validation\n",
    "X_train_split, X_val, y_train_split, y_val = train_test_split(X_train, y_train, test_size=0.2, random_state=42)\n",
    "\n",
    "# Train the main model\n",
    "model = RandomForestRegressor(n_estimators=100, random_state=42)\n",
    "model.fit(X_train_split, y_train_split)"
   ]
  },
  {
   "cell_type": "markdown",
   "metadata": {},
   "source": [
    "### Validation using MAE"
   ]
  },
  {
   "cell_type": "code",
   "execution_count": 8,
   "metadata": {},
   "outputs": [
    {
     "name": "stdout",
     "output_type": "stream",
     "text": [
      "Validation MAE: 37.75357523573633\n"
     ]
    }
   ],
   "source": [
    "# Evaluate the model on validation data\n",
    "y_val_pred = model.predict(X_val)\n",
    "print(\"Validation MAE:\", mean_absolute_error(y_val, y_val_pred))"
   ]
  },
  {
   "cell_type": "markdown",
   "metadata": {},
   "source": [
    "### Predict and Save Data"
   ]
  },
  {
   "cell_type": "code",
   "execution_count": 13,
   "metadata": {},
   "outputs": [],
   "source": [
    "# Predict on test data\n",
    "test['num_sold'] = model.predict(X_test)\n",
    "\n",
    "# Save the predictions to a CSV\n",
    "test[['id', 'num_sold']].to_csv('predictions.csv', index=False)"
   ]
  }
 ],
 "metadata": {
  "colab": {
   "authorship_tag": "ABX9TyN2eYfit5ctppnsHDBCutN7",
   "provenance": []
  },
  "kernelspec": {
   "display_name": "Python 3",
   "name": "python3"
  },
  "language_info": {
   "codemirror_mode": {
    "name": "ipython",
    "version": 3
   },
   "file_extension": ".py",
   "mimetype": "text/x-python",
   "name": "python",
   "nbconvert_exporter": "python",
   "pygments_lexer": "ipython3",
   "version": "3.12.1"
  }
 },
 "nbformat": 4,
 "nbformat_minor": 0
}
